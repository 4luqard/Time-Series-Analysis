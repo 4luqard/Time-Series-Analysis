{
 "cells": [
  {
   "cell_type": "code",
   "execution_count": 2,
   "id": "43765568-d5e4-4290-8a92-4ea0b533701d",
   "metadata": {
    "scrolled": true
   },
   "outputs": [],
   "source": [
    "import polars as pl\n",
    "import matplotlib.pyplot as plt\n",
    "import math\n",
    "from statsmodels.tsa.stattools import adfuller\n",
    "from statsmodels.graphics.tsaplots import plot_acf, plot_pacf\n",
    "\n",
    "import warnings\n",
    "def ignore_warn(*args, **kwargs):\n",
    "    pass\n",
    "warnings.warn = ignore_warn\n",
    "\n",
    "%matplotlib inline"
   ]
  },
  {
   "cell_type": "markdown",
   "id": "9aef15b0-60cc-4eb4-9b34-51e229a1d1e9",
   "metadata": {},
   "source": [
    "# Non-Stationary Data"
   ]
  },
  {
   "cell_type": "code",
   "execution_count": 3,
   "id": "53268055-8f53-45ed-af21-afb341de6061",
   "metadata": {},
   "outputs": [],
   "source": [
    "url = \"https://datahub.io/core/global-temp/r/monthly.csv\"\n",
    "global_temp = pl.read_csv(url, columns=[\"Year\", \"Mean\"]).with_columns(pl.col(\"Year\").str.strptime(pl.Date, \"%Y-%m\")) # Non-stationary"
   ]
  },
  {
   "cell_type": "code",
   "execution_count": 4,
   "id": "55c79296-e666-4177-a91e-4eb016e4e975",
   "metadata": {},
   "outputs": [
    {
     "data": {
      "text/html": [
       "<div><style>\n",
       ".dataframe > thead > tr,\n",
       ".dataframe > tbody > tr {\n",
       "  text-align: right;\n",
       "  white-space: pre-wrap;\n",
       "}\n",
       "</style>\n",
       "<small>shape: (5, 2)</small><table border=\"1\" class=\"dataframe\"><thead><tr><th>Year</th><th>Mean</th></tr><tr><td>date</td><td>f64</td></tr></thead><tbody><tr><td>1850-01-01</td><td>-0.6746</td></tr><tr><td>1850-02-01</td><td>-0.3334</td></tr><tr><td>1850-03-01</td><td>-0.5913</td></tr><tr><td>1850-04-01</td><td>-0.5887</td></tr><tr><td>1850-05-01</td><td>-0.5088</td></tr></tbody></table></div>"
      ],
      "text/plain": [
       "shape: (5, 2)\n",
       "┌────────────┬─────────┐\n",
       "│ Year       ┆ Mean    │\n",
       "│ ---        ┆ ---     │\n",
       "│ date       ┆ f64     │\n",
       "╞════════════╪═════════╡\n",
       "│ 1850-01-01 ┆ -0.6746 │\n",
       "│ 1850-02-01 ┆ -0.3334 │\n",
       "│ 1850-03-01 ┆ -0.5913 │\n",
       "│ 1850-04-01 ┆ -0.5887 │\n",
       "│ 1850-05-01 ┆ -0.5088 │\n",
       "└────────────┴─────────┘"
      ]
     },
     "execution_count": 4,
     "metadata": {},
     "output_type": "execute_result"
    }
   ],
   "source": [
    "global_temp.head()"
   ]
  },
  {
   "cell_type": "markdown",
   "id": "e1024f14-2b66-48a2-b9be-b7e94f8e7d28",
   "metadata": {},
   "source": [
    "# Stationary Data"
   ]
  },
  {
   "cell_type": "code",
   "execution_count": 5,
   "id": "93230276-7fa3-4ba0-b865-680fb3be23d4",
   "metadata": {},
   "outputs": [],
   "source": [
    "url = \"https://raw.githubusercontent.com/jbrownlee/Datasets/master/monthly-sunspots.csv\"\n",
    "sunspot_count = pl.read_csv(url, columns=[\"Month\", \"Sunspots\"]).with_columns(pl.col(\"Month\").str.strptime(pl.Date, \"%Y-%m\")) # Stationary"
   ]
  },
  {
   "cell_type": "code",
   "execution_count": 6,
   "id": "22fac6a7-ba9e-46d4-8161-154b46ba7fd0",
   "metadata": {},
   "outputs": [
    {
     "data": {
      "text/html": [
       "<div><style>\n",
       ".dataframe > thead > tr,\n",
       ".dataframe > tbody > tr {\n",
       "  text-align: right;\n",
       "  white-space: pre-wrap;\n",
       "}\n",
       "</style>\n",
       "<small>shape: (5, 2)</small><table border=\"1\" class=\"dataframe\"><thead><tr><th>Month</th><th>Sunspots</th></tr><tr><td>date</td><td>f64</td></tr></thead><tbody><tr><td>1749-01-01</td><td>58.0</td></tr><tr><td>1749-02-01</td><td>62.6</td></tr><tr><td>1749-03-01</td><td>70.0</td></tr><tr><td>1749-04-01</td><td>55.7</td></tr><tr><td>1749-05-01</td><td>85.0</td></tr></tbody></table></div>"
      ],
      "text/plain": [
       "shape: (5, 2)\n",
       "┌────────────┬──────────┐\n",
       "│ Month      ┆ Sunspots │\n",
       "│ ---        ┆ ---      │\n",
       "│ date       ┆ f64      │\n",
       "╞════════════╪══════════╡\n",
       "│ 1749-01-01 ┆ 58.0     │\n",
       "│ 1749-02-01 ┆ 62.6     │\n",
       "│ 1749-03-01 ┆ 70.0     │\n",
       "│ 1749-04-01 ┆ 55.7     │\n",
       "│ 1749-05-01 ┆ 85.0     │\n",
       "└────────────┴──────────┘"
      ]
     },
     "execution_count": 6,
     "metadata": {},
     "output_type": "execute_result"
    }
   ],
   "source": [
    "sunspot_count.head()"
   ]
  }
 ],
 "metadata": {
  "kernelspec": {
   "display_name": "Python 3 (ipykernel)",
   "language": "python",
   "name": "python3"
  },
  "language_info": {
   "codemirror_mode": {
    "name": "ipython",
    "version": 3
   },
   "file_extension": ".py",
   "mimetype": "text/x-python",
   "name": "python",
   "nbconvert_exporter": "python",
   "pygments_lexer": "ipython3",
   "version": "3.11.2"
  }
 },
 "nbformat": 4,
 "nbformat_minor": 5
}
